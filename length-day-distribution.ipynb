{
 "cells": [
  {
   "cell_type": "markdown",
   "metadata": {},
   "source": [
    "# How long is a day?\n",
    "In this tutorial we will use an astronomical Python library to show how the length of a day varies during one year. Let's start from importing the ephem module and instantiating an observer:"
   ]
  },
  {
   "cell_type": "code",
   "execution_count": 1,
   "metadata": {
    "collapsed": true
   },
   "outputs": [],
   "source": [
    "import ephem\n",
    "observer = ephem.Observer()"
   ]
  },
  {
   "cell_type": "markdown",
   "metadata": {},
   "source": [
    "To set observer's localization we have to set the position on the Earth's surface:"
   ]
  },
  {
   "cell_type": "code",
   "execution_count": 2,
   "metadata": {
    "scrolled": false
   },
   "outputs": [
    {
     "name": "stdout",
     "output_type": "stream",
     "text": [
      "<ephem.Observer date='2017/9/27 20:18:22' epoch='2000/1/1 12:00:00' lon='17:01:57.7' lat='51:06:34.0' elevation=120.0m horizon=0:00:00.0 temp=15.0C pressure=1010.0mBar>\n"
     ]
    }
   ],
   "source": [
    "observer.lat = \"51.109454\"\n",
    "observer.lon = \"17.032686\" # not necessary for this study\n",
    "observer.elev = 120\n",
    "print(observer)"
   ]
  },
  {
   "cell_type": "markdown",
   "metadata": {},
   "source": [
    "We can see that the observer is related with a date when the object was created. We need all days in one year, so a good choice is to use the pandas module and its fixed frequency datetime index for the current year:"
   ]
  },
  {
   "cell_type": "code",
   "execution_count": 3,
   "metadata": {
    "collapsed": true,
    "scrolled": false
   },
   "outputs": [],
   "source": [
    "import pandas as pd\n",
    "\n",
    "current_year = observer.date.triple()[0]\n",
    "all_days = pd.date_range(str(current_year) + \"/01/01\", str(current_year) + \"/12/31\")"
   ]
  },
  {
   "cell_type": "markdown",
   "metadata": {},
   "source": [
    "To calculate the length of a specific day we have to estimate time between the Sun's rising and setting:"
   ]
  },
  {
   "cell_type": "code",
   "execution_count": 4,
   "metadata": {
    "collapsed": true,
    "scrolled": false
   },
   "outputs": [],
   "source": [
    "sun = ephem.Sun()\n",
    "\n",
    "for ad in all_days:\n",
    "    observer.date = ad\n",
    "    observer.next_setting(sun) - observer.next_rising(sun)"
   ]
  }
 ],
 "metadata": {
  "kernelspec": {
   "display_name": "Python 2",
   "language": "python",
   "name": "python2"
  },
  "language_info": {
   "codemirror_mode": {
    "name": "ipython",
    "version": 2
   },
   "file_extension": ".py",
   "mimetype": "text/x-python",
   "name": "python",
   "nbconvert_exporter": "python",
   "pygments_lexer": "ipython2",
   "version": "2.7.13"
  }
 },
 "nbformat": 4,
 "nbformat_minor": 2
}
